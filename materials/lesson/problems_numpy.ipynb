{
 "cells": [
  {
   "cell_type": "markdown",
   "metadata": {},
   "source": [
    "# Задачи для семинара по numpy"
   ]
  },
  {
   "cell_type": "markdown",
   "metadata": {},
   "source": [
    "__Задача.__ Написать функцию, принимающую матрицу А и возвращающую эту матрицу после применения к ней построчно операции softmax:\n",
    "$$[softmax(x)]_i = \\frac{exp(x_i)}{\\sum_j exp(x_j)},\n",
    "\\quad x \\in \\mathbb{R}^n$$"
   ]
  },
  {
   "cell_type": "code",
   "execution_count": null,
   "metadata": {
    "collapsed": true
   },
   "outputs": [],
   "source": []
  },
  {
   "cell_type": "markdown",
   "metadata": {},
   "source": [
    "__Задача.__ Дан вектор x длины n и вектор a индексов от 0 до n-1. Каждый раз, когда в векторе a встречается индекс i, требуется прибавить 1 к i-му элементу x. Написать функцию, возвращающую результирующий вектор."
   ]
  },
  {
   "cell_type": "code",
   "execution_count": null,
   "metadata": {
    "collapsed": true
   },
   "outputs": [],
   "source": []
  },
  {
   "cell_type": "markdown",
   "metadata": {},
   "source": [
    "__Задача__. Даны две небольшие бинарные матрицы $A$ размера $m \\times n$ и $B$ размера $n \\times k$. \n",
    "Написать функцию, возвращающую матрицу $C$ такую, что\n",
    "\n",
    "$C_{ij} = \\&_{s=1}^n (A_{is} \\lor B_{sj})$.\n",
    "\n",
    "Здесь $\\&$ означает логическое умножение (and), а $\\lor$ — дизъюнкцию (or)."
   ]
  },
  {
   "cell_type": "code",
   "execution_count": null,
   "metadata": {
    "collapsed": true
   },
   "outputs": [],
   "source": []
  },
  {
   "cell_type": "markdown",
   "metadata": {},
   "source": [
    "__Задача.__ Дана функция $f(x) = x^2 - 1$. Оценить по методу Монте-Карло ее интеграл от -1 до 1. Для этого сгенерировать большую выборку из n равномерно распределенных чисел на указанном интервале. Сравнить полученное значение с аналитически вычисленным. Построить график невязки точного и приближенного решения в зависимости от n в логарифмической шкале (для n=2, 4, 8, 16...2^18)"
   ]
  },
  {
   "cell_type": "code",
   "execution_count": null,
   "metadata": {
    "collapsed": true
   },
   "outputs": [],
   "source": []
  },
  {
   "cell_type": "markdown",
   "metadata": {},
   "source": [
    "__Задача.__ Пусть $x = sin(\\xi), \\xi \\sim \\mathcal{N}(0, 1)$. Изобразить на графике функцию плотности и функцию распределения этой случайной величины. Для этого сгенерировать выборку из 1000 значений случайной величины. Сравнить с аналогичными графиками для стандартного нормального распределения."
   ]
  },
  {
   "cell_type": "code",
   "execution_count": null,
   "metadata": {
    "collapsed": true
   },
   "outputs": [],
   "source": []
  },
  {
   "cell_type": "markdown",
   "metadata": {},
   "source": [
    "__Задача.__ Дан трёхмерный массив img, содержащий изображение, размера (height, width, numChannels). Также дан трехмерный массим krl размера (2h+1, 2w+1, numChannels), 2h+1 < height, 2w+1 < width. Требуется написать функцию, возвращающую массив img после применения к ней свертки с ядром krl:\n",
    "$$out[i, j, k] = \\sum_{n, \\,m, \\,c=-h,\\, -w, \\,0}^{h, \\,w,\\, numChannels-1} img [i+n, j+m, c] krl [n, m, c]$$\n",
    "В этой задаче можно пользоваться циклами (до двух).\n",
    "\n",
    "Поэкспериментировать с [разными ядрами](https://habr.com/post/142818/) на примере реальных изображений. Сравнить свою реализацию по скорости работы с готовыми из модуля pillow."
   ]
  },
  {
   "cell_type": "code",
   "execution_count": null,
   "metadata": {
    "collapsed": true
   },
   "outputs": [],
   "source": []
  },
  {
   "cell_type": "markdown",
   "metadata": {},
   "source": [
    "__Задача.__ Реализовать алгоритм кластеризации k-means. Это очень простой, но популярный алгоритм разделения объектов на заранее заданное число кластеров. Алгоритм берет на вход матрицу объекты-признаки X (размер N x D) и возвращает k центров кластеров (k векторов длины D), а также вектор длины N принадлежностей объектов кластерам (каждый элемент - индекс от 0 до k-1). Алгоритм работает следующим образом:\n",
    "1. Инициализировать случайно вектор принадлежностей кластерам.\n",
    "1. Повторять:\n",
    "    1. найти центры кластеров как среднее векторов в соответствующем кластере\n",
    "    1. найти новый вектор принадлежностей объектов кластерам (каждый объект относится к ближайшему кластеру).\n",
    "Выход из цикла осуществляется, когда принадлежности перестают меняться, или просто после фиксированного числа итераций (например, 10). \n",
    "\n",
    "Подробнее об алгоритме можно прочитать [в Википедии](https://ru.wikipedia.org/wiki/%D0%9C%D0%B5%D1%82%D0%BE%D0%B4_k-%D1%81%D1%80%D0%B5%D0%B4%D0%BD%D0%B8%D1%85).\n",
    "\n",
    "Протестировать алгоритм на [выборке координат городов России](https://raw.githubusercontent.com/nadiinchi/HSE_minor_DataAnalysis_seminars_iad16/master/materials/sem_b3_coord.csv) (широты и долгота как признаки объекта-города) и визуализировать полученные кластеры."
   ]
  },
  {
   "cell_type": "code",
   "execution_count": null,
   "metadata": {
    "collapsed": true
   },
   "outputs": [],
   "source": []
  }
 ],
 "metadata": {
  "kernelspec": {
   "display_name": "Python 3",
   "language": "python",
   "name": "python3"
  },
  "language_info": {
   "codemirror_mode": {
    "name": "ipython",
    "version": 3
   },
   "file_extension": ".py",
   "mimetype": "text/x-python",
   "name": "python",
   "nbconvert_exporter": "python",
   "pygments_lexer": "ipython3",
   "version": "3.6.3"
  }
 },
 "nbformat": 4,
 "nbformat_minor": 2
}
