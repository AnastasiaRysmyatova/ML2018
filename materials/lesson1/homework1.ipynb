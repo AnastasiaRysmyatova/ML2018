{
 "cells": [
  {
   "cell_type": "markdown",
   "metadata": {},
   "source": [
    "# Задание 1. Python"
   ]
  },
  {
   "cell_type": "markdown",
   "metadata": {},
   "source": [
    "### Задача 1. Считывание файла и построение графика (6 баллов)\n",
    "\n",
    "Скачайте данные для задачи по [ссылке](https://github.com/nadiinchi/HSE_minor_DataAnalysis_seminars_iad16/blob/master/materials/russian_weather.txt) (нажать Raw и затем сохранить файл).\n",
    "\n",
    "__Дан__ небольшой файл \"russian\\_weather.txt\", в каждой строке которого через \";\" записаны сначала лейбл (текстовая строка), а затем некоторое количество вещественных чисел (во всех строках чисел одинаковое количество).\n",
    "\n",
    "Пример строки:\n",
    "\n",
    "Numbers;1.1;1.2;1.3;1.4;1.5;\n",
    "\n",
    "Лейбл означает российский город, а числа - температуру с 1980 по 1990 год с некоторым периодом (временной ряд).\n",
    "\n",
    "__Требуется__:\n",
    "1. написать функцию read_data, которая берет на вход название файла и возвращает словарь, в котором ключи - названия городов, а значения - списки числовых значений температуры в соответствующих городах. С помощью этой функции прочитать данные.\n",
    "1. Нарисовать на одном графике все четыре временных ряда. Необходимо подписать оси (например, \"Время - Температура\") и назание графика (например, \"Погода\"), а также сделать легенду, указывающую, какой график к какому городу относится.  По оси абсцисс можно использовать любую шкалу.\n",
    "\n",
    "__Ограничения:__\n",
    "* Можно импортировать только модуль matplotlib\n",
    "* Считывание данных необходимо произвести \"вручную\" без привлечения готовых функций, умеющих работать с csv"
   ]
  },
  {
   "cell_type": "code",
   "execution_count": 138,
   "metadata": {},
   "outputs": [],
   "source": [
    "from matplotlib import pyplot as plt\n",
    "%matplotlib inline"
   ]
  },
  {
   "cell_type": "code",
   "execution_count": null,
   "metadata": {
    "collapsed": true
   },
   "outputs": [],
   "source": [
    "def read_data(fn):\n",
    "    \"\"\"\n",
    "    Input\n",
    "    fn: full filename, string\n",
    "    \n",
    "    Output\n",
    "    tmps: dictionary with keys - cities names (string),\n",
    "                          values - temperatures (list of floats)\n",
    "    \"\"\"\n",
    "    ### your code here\n",
    "    \n",
    "    \n",
    "    "
   ]
  },
  {
   "cell_type": "code",
   "execution_count": null,
   "metadata": {
    "collapsed": true
   },
   "outputs": [],
   "source": [
    "### your code here (draw plot)\n",
    "\n",
    "\n"
   ]
  },
  {
   "cell_type": "markdown",
   "metadata": {},
   "source": [
    "### Задача 2. Сортировка (4 балла)"
   ]
  },
  {
   "cell_type": "markdown",
   "metadata": {},
   "source": [
    "Написать функцию sort_list, принимающую на вход список вещественных чисел и возвращающую отсортированный список. Алгоритм сортировки можно использовать любой, самое простое - [сортировка выбором](http://algolist.manual.ru/sort/select_sort.php) или [сортировка пузырьком](http://algolist.manual.ru/sort/bubble_sort.php), однако приветствуется реализация [быстрой сортировки](http://algolist.manual.ru/sort/quick_sort.php)."
   ]
  },
  {
   "cell_type": "code",
   "execution_count": null,
   "metadata": {
    "collapsed": true
   },
   "outputs": [],
   "source": [
    "def sort_list(li):\n",
    "    \"\"\"\n",
    "    Input\n",
    "    li: list of float values\n",
    "    \n",
    "    Output\n",
    "    sorted li (list of float values)\n",
    "    \"\"\"\n",
    "    ### your code here\n",
    "    \n",
    "    \n",
    "    "
   ]
  }
 ],
 "metadata": {
  "kernelspec": {
   "display_name": "Python 3",
   "language": "python",
   "name": "python3"
  },
  "language_info": {
   "codemirror_mode": {
    "name": "ipython",
    "version": 3
   },
   "file_extension": ".py",
   "mimetype": "text/x-python",
   "name": "python",
   "nbconvert_exporter": "python",
   "pygments_lexer": "ipython3",
   "version": "3.6.3"
  }
 },
 "nbformat": 4,
 "nbformat_minor": 1
}
